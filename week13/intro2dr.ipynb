{
 "metadata": {
  "name": "",
  "signature": "sha256:dc622008cc96605ea9ec882fce9791d41859f6a7d4ba91673d93e03d73db0525"
 },
 "nbformat": 3,
 "nbformat_minor": 0,
 "worksheets": [
  {
   "cells": [
    {
     "cell_type": "markdown",
     "metadata": {},
     "source": [
      "<DIV ALIGN=CENTER>\n",
      "\n",
      "# Introduction to Dimension Reduction\n",
      "## Professor Robert J. Brunner\n",
      "  \n",
      "</DIV>  \n",
      "-----\n",
      "-----"
     ]
    },
    {
     "cell_type": "markdown",
     "metadata": {},
     "source": [
      "\n",
      "## Introduction\n",
      "\n",
      "In the [first IPython Notebook][l1] for this week, we began the data\n",
      "exploration process, by exploring  he Iris data that is included with\n",
      "scikit_learn. We next applied a variety of supervised learning methods\n",
      "to classify data. In this notebook we turn to a different type of data\n",
      "mining, where we look for correlations in the data without explicit\n",
      "training. This Notebook solely focuses on dimension reduction by using\n",
      "PCA. Other readings will demonstrate other techniques.\n",
      "\n",
      "First we need to load the data into this Notebook and redefine our\n",
      "Helper functions.\n",
      "\n",
      "-----\n",
      "\n",
      "[l1]: intro2dm.ipynb"
     ]
    },
    {
     "cell_type": "code",
     "collapsed": false,
     "input": [
      "%matplotlib inline\n",
      "\n",
      "# Set up Notebook\n",
      "\n",
      "import seaborn as sns\n",
      "import matplotlib.pyplot as plt\n",
      "\n",
      "sns.set(style=\"white\")\n",
      "\n",
      "# Load the Iris Data\n",
      "iris = sns.load_dataset(\"iris\")"
     ],
     "language": "python",
     "metadata": {},
     "outputs": [],
     "prompt_number": 1
    },
    {
     "cell_type": "code",
     "collapsed": false,
     "input": [
      "# Convenience function to plot confusion matrix\n",
      "\n",
      "import numpy as np\n",
      "import pandas as pd\n",
      "\n",
      "# This method produces a colored heatmap that displays the relationship\n",
      "# between predicted and actual types from a machine leanring method.\n",
      "\n",
      "def confusion(test, predict, title):\n",
      "    # Define names for the three Iris types\n",
      "    names = ['setosa', 'versicolor', 'virginica']\n",
      "\n",
      "    # Make a 2D histogram from the test and result arrays\n",
      "    pts, xe, ye = np.histogram2d(test, predict, bins=3)\n",
      "\n",
      "    # For simplicity we create a new DataFrame\n",
      "    pd_pts = pd.DataFrame(pts.astype(int), index=names, columns=names )\n",
      "    \n",
      "    # Display heatmap and add decorations\n",
      "    hm = sns.heatmap(pd_pts, annot=True, fmt=\"d\")\n",
      "    hm.axes.set_title(title)\n",
      "    \n",
      "    return None\n",
      "\n",
      "# This method produces a colored scatter plot that displays the intrisic\n",
      "# clustering of a particular data set. The different types are colored\n",
      "# uniquely.\n",
      "\n",
      "def splot_data(col1, col2, data, hue_col, label1, label2, xls, yls, sz=8):\n",
      "    \n",
      "    # Make the  scatter plot on the DataFrame\n",
      "    jp = sns.lmplot(col1, col2, data,\n",
      "                    fit_reg=False, hue=hue_col, size=sz, scatter_kws ={'s': 60})\n",
      "    \n",
      "    # Decorate the plot and set limits\n",
      "    jp.set_axis_labels(label1, label2)\n",
      "\n",
      "    jp.axes[0,0].set_xlim(xls)\n",
      "    jp.axes[0,0].set_ylim(yls)\n",
      "\n",
      "    sns.despine(offset=0, trim=True)\n",
      "    sns.set(style=\"ticks\", font_scale=2.0)"
     ],
     "language": "python",
     "metadata": {},
     "outputs": [],
     "prompt_number": 2
    },
    {
     "cell_type": "markdown",
     "metadata": {},
     "source": [
      "-----\n",
      "\n",
      "Our next step is to build explicit data and label NumPy arrays. We do\n",
      "this primarily because scikit-learn does not work natively with Pandas\n",
      "DataFrames. We can easily grab the underlying NumPy two-dimensional\n",
      "array from a DataFrame by using the `values` attribute, in this case we\n",
      "first select out the four attribute columns. Next, we create a numerical\n",
      "array for the data types, where 0, 1, and 2 are mapped distinctly into\n",
      "setosa, versicolor, and virginica.\n",
      "\n",
      "-----"
     ]
    },
    {
     "cell_type": "code",
     "collapsed": false,
     "input": [
      "# Now lets get the data and labels\n",
      "\n",
      "data = iris[['sepal_length', 'sepal_width', 'petal_length', 'petal_width']].values\n",
      "labels = np.array([i//50 for i in range(iris.shape[0])])"
     ],
     "language": "python",
     "metadata": {},
     "outputs": [],
     "prompt_number": 3
    },
    {
     "cell_type": "markdown",
     "metadata": {},
     "source": [
      "-----\n",
      "\n",
      "## [Dimensionality Reduction][dr]\n",
      "\n",
      "When confronted with a large, multi-dimensional data set, one approach to\n",
      "simplify any subsequent analysis is to reduce the number of dimensions\n",
      "that must be processed. In some cases, dimensions can be removed from\n",
      "analysis based on business logic. More generally, however, we can\n",
      "employ machine learning to seek out relationships between the original\n",
      "dimensions (or attributes or columns of a DataFrame) to identify new\n",
      "dimensions that better capture the inherent relationships within the\n",
      "data.\n",
      "\n",
      "The standard technique to perform this is known as principal component\n",
      "analysis, or PCA. Mathematically,we can derive PCA by using linear\n",
      "algebra to solve a set of linear equations. This process effectively\n",
      "rotates the data into a new set of dimensions, and by ranking the\n",
      "importance of the new dimensions, we can actually leverage fewer\n",
      "dimensions in machine learning algorithms. PCA is demonstrated in the\n",
      "following figure from Wikipedia, where we have a two-dimensional\n",
      "Gaussian distribution. In the original space the data are widely spread.\n",
      "By rotating into a coordinate system aligned with the Gaussian shape,\n",
      "however, we have one primary dimension and a secondary dimension with\n",
      "less spread.\n",
      "\n",
      "![PCA Wikipedia Image][pcai]\n",
      "\n",
      "We can easily implement PCA by using scikit-learn. The _PCA_ model\n",
      "requires one tunable parameter that specifies the target number of\n",
      "dimensions. This value can be arbitrarily selected, perhaps based on a\n",
      "prior information, or it can be iteratively determined. After the model\n",
      "is created, we fit the model to the data and next create our new,\n",
      "rotated data set. This is demonstrated in the next code cell.\n",
      "\n",
      "-----\n",
      "\n",
      "[dr]: https://en.wikipedia.org/wiki/Dimensionality_reduction\n",
      "[pca]: https://en.wikipedia.org/wiki/Principal_component_analysis\n",
      "[pcai]: https://upload.wikimedia.org/wikipedia/commons/thumb/1/15/GaussianScatterPCA.png/512px-GaussianScatterPCA.png"
     ]
    },
    {
     "cell_type": "code",
     "collapsed": false,
     "input": [
      "# Principal Component Analysis\n",
      "from sklearn.decomposition import PCA\n",
      "\n",
      "# First create our PCA model\n",
      "# For now we assume two compponents, to make plotting easier.\n",
      "pca = PCA(n_components=2)\n",
      "\n",
      "# Fit model to the data\n",
      "pca.fit(data)\n",
      "\n",
      "# Compute the transformed data (rotation to PCA space)\n",
      "data_reduced = pca.transform(data)\n",
      "\n",
      "# Need to modify to match number of PCA components\n",
      "cols = ['PCA1', 'PCA2', 'Species']\n",
      "\n",
      "# For example, if n_components = 3\n",
      "# cols = ['PCA1', 'PCA2', 'PCA3', 'Species']\n",
      "\n",
      "# Now create a new DataFrame to hold the results\n",
      "# First a temporary np.array\n",
      "tmp_d = np.concatenate((data_reduced, iris['species'].reshape((150, 1))), axis=1)\n",
      "\n",
      "iris_pca = pd.DataFrame(tmp_d, columns = cols)"
     ],
     "language": "python",
     "metadata": {},
     "outputs": [],
     "prompt_number": 4
    },
    {
     "cell_type": "markdown",
     "metadata": {},
     "source": [
      "-----\n",
      "\n",
      "Given the two new domensions, we can first see how they are related to\n",
      "the original four dimensions (this isn't just a rotation since we\n",
      "reduced the number of dimensions). We also can display the original\n",
      "type-tagged data in a scatter plot that is now displayed by using the\n",
      "principal components.\n",
      "\n",
      "-----"
     ]
    },
    {
     "cell_type": "code",
     "collapsed": false,
     "input": [
      "# We can print out rotation matrix\n",
      "\n",
      "c_names = ['sepal_length', 'sepal_width', 'petal_length', 'petal_width']\n",
      "for row in pca.components_:\n",
      "    print(r\" + \".join(\"{0:6.3f} * {1:s}\".format(val, name) for val, name in zip(row, c_names)))"
     ],
     "language": "python",
     "metadata": {},
     "outputs": [
      {
       "output_type": "stream",
       "stream": "stdout",
       "text": [
        " 0.361 * sepal_length + -0.085 * sepal_width +  0.857 * petal_length +  0.358 * petal_width\n",
        "-0.657 * sepal_length + -0.730 * sepal_width +  0.173 * petal_length +  0.075 * petal_width\n"
       ]
      }
     ],
     "prompt_number": 5
    },
    {
     "cell_type": "code",
     "collapsed": false,
     "input": [
      "# Display the original data in the new space\n",
      "splot_data('PCA1', 'PCA2', iris_pca, 'Species', 'First PCA', 'Second PCA', (-4.2, 4.6), (-1.8, 1.6))"
     ],
     "language": "python",
     "metadata": {},
     "outputs": [
      {
       "metadata": {},
       "output_type": "display_data",
       "png": "[encoded data removed]",
       "text": [
        "<matplotlib.figure.Figure at 0x7f4e6280e518>"
       ]
      }
     ],
     "prompt_number": 6
    },
    {
     "cell_type": "code",
     "collapsed": false,
     "input": [],
     "language": "python",
     "metadata": {},
     "outputs": []
    }
   ],
   "metadata": {}
  }
 ]
}