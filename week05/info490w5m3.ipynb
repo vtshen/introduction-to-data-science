{
 "metadata": {
  "name": "",
  "signature": "sha256:f7b4068a45222764ef75d2efd7931bade09fca23b43b90aaa3204b5d95e1f60d"
 },
 "nbformat": 3,
 "nbformat_minor": 0,
 "worksheets": [
  {
   "cells": [
    {
     "cell_type": "heading",
     "level": 1,
     "metadata": {},
     "source": [
      "Histograms in Python"
     ]
    },
    {
     "cell_type": "markdown",
     "metadata": {},
     "source": [
      "In this lesson, we introduce the [Histogram](http://en.wikipedia.org/wiki/Histogram), which provides a powerful method to generate a visualization of large data in a concise format.\n",
      "\n",
      "Note: We will always use this line to ensure that all figures appear inline within an iPython notebook."
     ]
    },
    {
     "cell_type": "code",
     "collapsed": false,
     "input": [
      "%matplotlib inline"
     ],
     "language": "python",
     "metadata": {},
     "outputs": [],
     "prompt_number": 1
    },
    {
     "cell_type": "markdown",
     "metadata": {},
     "source": [
      "# Histograms\n",
      "\n",
      "A histogram is a binned representation of a data set. As a result, it provides a concise representation of a data along one dimension, where the size of the representation is determined solely by the number of bins used and not the total number of data points. As a result, it can be used to provide a concise summary of a very large data set. \n",
      "\n",
      "## Binning\n",
      "Sometimes the binning can be determined easily, for example, months of the year or days of the week might provide natural bins. Other times, both the number of bins and the bin ranges will need to be determined before the histogram is constructed. A general rule of thumb is that if you have N data points you should hve root-three N bins. The following code summarizes the reults form this formula:\n"
     ]
    },
    {
     "cell_type": "code",
     "collapsed": false,
     "input": [
      "# We need to import the math library for the ceil method, which returns the next largest \n",
      "# integer to a floating point value\n",
      "\n",
      "import math as mt\n",
      "\n",
      "# We want to loop from 10 to 100,000,000\n",
      "for i in range(1,8):\n",
      "    \n",
      "    # Now print out the integer value, and the number of bins\n",
      "    # We used a math trick here, 10**i**(1/3) = 10**(i/3)\n",
      "    print(\"%9d\\t%4d\\n\" % (10**i, mt.ceil(pow(10, i/3.))))"
     ],
     "language": "python",
     "metadata": {},
     "outputs": [
      {
       "output_type": "stream",
       "stream": "stdout",
       "text": [
        "       10\t   3\n",
        "\n",
        "      100\t   5\n",
        "\n",
        "     1000\t  10\n",
        "\n",
        "    10000\t  22\n",
        "\n",
        "   100000\t  47\n",
        "\n",
        "  1000000\t 100\n",
        "\n",
        " 10000000\t 216\n",
        "\n"
       ]
      }
     ],
     "prompt_number": 2
    },
    {
     "cell_type": "markdown",
     "metadata": {},
     "source": [
      "## Making a Histogram\n",
      "No we are in position to actually demonstrate how to make and display a histogram by using matplotlib. We first will need data, which for this example we create by randomly generating data. We also start by using the defult number of bins, which is ten, and bin range, which is the minimum and maximum data values."
     ]
    },
    {
     "cell_type": "code",
     "collapsed": false,
     "input": [
      "# First we need to import matplotlib and numpy\n",
      "import matplotlib.pyplot as plt\n",
      "import numpy as np\n",
      "\n",
      "# Now we create our figure and axes for the plot we will make.\n",
      "fig, ax = plt.subplots()\n",
      "\n",
      "# Now we generate something to plot. In this case, we will need lots of data \n",
      "# that are randomly sampled from a particular function.\n",
      "\n",
      "x = np.linspace(0, 100, 10000)\n",
      "y = x + np.random.uniform(-10, 10, 10000)\n",
      "\n",
      "# Now we want to make a default histogram\n",
      "ax.hist(y, bins = 20)# , bins=10 , histtype='stepfilled', normed=False, color='BurlyWood', label='Gaussian')\n",
      "\n",
      "# Set our axis labels and plot title\n",
      "ax.set_title(\"Histogram\")\n",
      "ax.set_xlabel(\"Value\")\n",
      "ax.set_ylabel(\"Frequency\")\n",
      "\n",
      "#Show final result\n",
      "plt.show()"
     ],
     "language": "python",
     "metadata": {},
     "outputs": [
      {
       "metadata": {},
       "output_type": "display_data",
       "png": "[encoded data removed]",
       "text": [
        "<matplotlib.figure.Figure at 0x7ffdca0cd2e8>"
       ]
      }
     ],
     "prompt_number": 6
    },
    {
     "cell_type": "markdown",
     "metadata": {},
     "source": [
      "In this simple example, we first construct random data in a similar manner as we did when making scatter plots in the previous lesson. We first create an  array of 10,000 elements that are linearly spaced between 0 and 100. This array is used to create a second array, where each value has now been perturbed by a randomly selected value between -10 and 10. If we did not do this random perturbation the histogram would be flat since we have the same number of values in each bin. Matplotlib automatically creates the ten bins and computes the frequency with which values in the input data set occur in each bin and plots the results.\n",
      "\n",
      "## Histogram Options\n",
      "Now that our first histogram is completed, we can look at canigng the default selections, such as the number of bins, the bin centers, and the color and style of the histogram bins. These values can all be changed by passing parameters into the histogram function. \n",
      "\n",
      "First, the number and locations of the bins used to construct the histogram can be specifed by using the bin parameter. There are several different ways to control this parameter:\n",
      "\n",
      "- `bins = 22` will give twenty-two bins\n",
      "- `bins = (0,20,90,100)` will produce three bins that span 0-20, 20-90, and 90-100, respectively.\n",
      "- `bins = np.linspace(0, 100, 100)` will produce one hundred bins linearly spaced between zero and one hundred.\n",
      "\n",
      "Second, there are four different types of histrogram plots that you cane make: `bar`, `barstacked`, `step`, and `stepfilled`, with `bar` being the default value. Third, you can specify the line or fill color of the bins by defining the `color` parameter. For example, `color = 'BurlyWood'` will set the histogram color to be the web-safe color `BurlyWood`. For more color examples, see the [HTML color name](http://www.w3schools.com/html/html_colornames.asp) page, other colors that you might try to use include AntiqueWhite, DarkSalmon, DarkTurquoise, IndianRed, or PeachPuff.  Use the following code example to see how these parameters change the appearance of the sample histogram."
     ]
    },
    {
     "cell_type": "code",
     "collapsed": false,
     "input": [
      "# First we need to import matplotlib and numpy\n",
      "import matplotlib.pyplot as plt\n",
      "import numpy as np\n",
      "\n",
      "# Now we create our figure and axes for the plot we will make.\n",
      "fig, ax = plt.subplots()\n",
      "\n",
      "# Now we generate something to plot. In this case, we will need lots of data \n",
      "# that are randomly sampled from a particular function.\n",
      "\n",
      "x = np.linspace(0, 100, 10000)\n",
      "y = x + np.random.uniform(-10, 10, 10000)\n",
      "\n",
      "# Now we want to make a modified histogram\n",
      "ax.hist(y, bins=20, histtype='bar', color='BurlyWood')\n",
      "\n",
      "# Set our axis labels and plot title\n",
      "ax.set_title(\"Histogram\")\n",
      "ax.set_xlabel(\"Value\")\n",
      "ax.set_ylabel(\"Frequency\")\n",
      "\n",
      "#Show final result\n",
      "plt.show()"
     ],
     "language": "python",
     "metadata": {},
     "outputs": [
      {
       "metadata": {},
       "output_type": "display_data",
       "png": "[encoded data removed]",
       "text": [
        "<matplotlib.figure.Figure at 0x7fcef8e9c908>"
       ]
      }
     ],
     "prompt_number": 6
    },
    {
     "cell_type": "markdown",
     "metadata": {},
     "source": [
      "## Histogram Range\n",
      "\n",
      "Sometimes the frequency counts can very dramatically between bins. In that case, it is often convenient to change the presentation of the frequency counts to improve the discrimination of different bin counts. This can easily be accomplished by chaning the vertical axis to display the logarithm of the frequency count, which is done by setting the optional parameter `log` to `True`. in the following example, see the difference in the generated histogram by changing to a log histogram by setting `log=True` in the histogram method."
     ]
    },
    {
     "cell_type": "code",
     "collapsed": false,
     "input": [
      "# First we need to import matplotlib and numpy\n",
      "import matplotlib.pyplot as plt\n",
      "import numpy as np\n",
      "\n",
      "# Now we create our figure and axes for the plot we will make.\n",
      "fig, ax = plt.subplots()\n",
      "\n",
      "# Now we generate something to plot. In this case, we will need data \n",
      "# that are randomly sampled, but we want the to be non-uniform\n",
      "\n",
      "x = np.sqrt(np.linspace(0, 10000, 10000))\n",
      "y = x + np.random.uniform(-10, 10, 10000)\n",
      "\n",
      "ax.hist(y, bins=20 , histtype='step', color='BurlyWood', log=False)\n",
      "\n",
      "ax.set_title(\"Histogram\")\n",
      "ax.set_xlabel(\"Value\")\n",
      "ax.set_ylabel(\"Frequency\")\n",
      "ax.set_xlim(-15, 115)\n",
      "plt.show()"
     ],
     "language": "python",
     "metadata": {},
     "outputs": [
      {
       "metadata": {},
       "output_type": "display_data",
       "png": "[encoded data removed]",
       "text": [
        "<matplotlib.figure.Figure at 0x7fcef8eae748>"
       ]
      }
     ],
     "prompt_number": 8
    },
    {
     "cell_type": "markdown",
     "metadata": {},
     "source": [
      "##Probability\n",
      "\n",
      "Another use of a histogram is to display the normalized frequency counts, which can also be interpreted as the probability that a particular value lies within a given bin. Formally, this is computed by diving the bin counts by the total counts (or frequencies of occurance by the total number of occurances). But with matplotlib, we simply need to set the optional `normed` parameter to `True`. The values on the y-axis will now be the normalized probability for a value to lie within the bin, which means that the total probability musty be multiplied by the width of the bin (as can be seen in the examples).\n",
      "\n",
      "Note that we now change the y-axis label to __Probability__ reflect the change in what is being displayed."
     ]
    },
    {
     "cell_type": "code",
     "collapsed": false,
     "input": [
      "# First we need to import matplotlib and numpy\n",
      "import matplotlib.pyplot as plt\n",
      "import numpy as np\n",
      "\n",
      "# Now we create our figure and axes for the plot we will make.\n",
      "fig, ax = plt.subplots()\n",
      "\n",
      "# Now we generate something to plot. In this case, we will need data \n",
      "# that are randomly sampled from a particular function.\n",
      "\n",
      "x = np.linspace(0,100, 10000)\n",
      "y1 = x + np.random.uniform(-10, 10, 10000)\n",
      "y2 = x + np.random.uniform(-25, 25, 10000)\n",
      "\n",
      "ax.hist(y1, bins=20 , histtype='bar', normed=True, color='BurlyWood')\n",
      "\n",
      "# Complete the plot, but change the y-axis labal accordingly\n",
      "ax.set_title(\"Histogram\")\n",
      "ax.set_xlabel(\"Value\")\n",
      "ax.set_ylabel(\"Probability\")\n",
      "ax.set_xlim(-15, 115)\n",
      "plt.show()"
     ],
     "language": "python",
     "metadata": {},
     "outputs": [
      {
       "metadata": {},
       "output_type": "display_data",
       "png": "[encoded data removed]",
       "text": [
        "<matplotlib.figure.Figure at 0x7fcef8eec8d0>"
       ]
      }
     ],
     "prompt_number": 10
    },
    {
     "cell_type": "markdown",
     "metadata": {},
     "source": [
      "## Multiple Histograms\n",
      "\n",
      "In certain cases, it may be instructive to compare two distributions directly within the same plot. For example, if you have computed a histgoram of the ages of people in a population, you might want to differentiate the male and female populations in separate histograms for comparison. This can easily be done by simply overplottiong two histograms. In the following example, we create two populations: y1 and y2, and display their histograms within the same plot window. Note that by default, the two histograms will be overplotted, so to allow both to be seen, we set the `alpha` parameter in the second one, which make the second histogram somewhat transparent (based on the value assigned to the `alpha` parameter).\n",
      "\n",
      "We also assign a label to each histogram, so that the `legend` method can be used to differentiate between the two histograms."
     ]
    },
    {
     "cell_type": "code",
     "collapsed": false,
     "input": [
      "# First we need to import matplotlib and numpy\n",
      "import matplotlib.pyplot as plt\n",
      "import numpy as np\n",
      "\n",
      "# Now we create our figure and axes for the plot we will make.\n",
      "fig, ax = plt.subplots()\n",
      "\n",
      "# Now we generate something to plot. In this case, we will need data \n",
      "# that are randomly sampled from a particular function.\n",
      "\n",
      "x = np.linspace(0,100, 10000)\n",
      "y1 = x + np.random.uniform(-10, 10, 10000)\n",
      "y2 = x + np.random.uniform(-25, 25, 10000)\n",
      "\n",
      "mybins = np.linspace(-20,120,20)\n",
      "ax.hist(y1, bins=mybins, histtype='bar', normed=True, color='BurlyWood', label='Type A')\n",
      "ax.hist(y2, bins=mybins, histtype='bar', normed=True, color='IndianRed', label='Type B', alpha=0.8)\n",
      "\n",
      "# Complete the plot, and include a legend.\n",
      "\n",
      "ax.set_title(\"Histogram\")\n",
      "ax.set_xlabel(\"Value\")\n",
      "ax.set_ylabel(\"Probability\")\n",
      "ax.set_xlim(-35, 135)\n",
      "ax.legend()\n",
      "plt.show()"
     ],
     "language": "python",
     "metadata": {},
     "outputs": [
      {
       "metadata": {},
       "output_type": "display_data",
       "png": "[encoded data removed]",
       "text": [
        "<matplotlib.figure.Figure at 0x7fcef8eaa7b8>"
       ]
      }
     ],
     "prompt_number": 15
    },
    {
     "cell_type": "markdown",
     "metadata": {},
     "source": [
      "The two histograms can also be plotted side-by-side, which can often simplify a comparison. In the following example, we plot three histograms side-by-side. In this case, we pass the three data sets as a list to the same histogram method call, which means we also need to pass the colors and labels as a list. All other parameters will be assigned equally to the three histograms.\n",
      "\n",
      "In this sample code, we have also used the [figure method](http://matplotlib.org/api/figure_api.html#matplotlib.figure.Figure) to specify a larger plot window (which is helpful for multiple histograms), and also used the attributes in the [add_subplot method](http://matplotlib.org/api/figure_api.html#matplotlib.figure.Figure.add_subplot) to specify only one subplot, which shoul dhave an 'Ivory' background."
     ]
    },
    {
     "cell_type": "code",
     "collapsed": false,
     "input": [
      "# First we need to import matplotlib and numpy\n",
      "import matplotlib.pyplot as plt\n",
      "import numpy as np\n",
      "\n",
      "# Now we create our figure and axes for the plot we will make.\n",
      "fig = plt.figure(figsize=(12, 8))\n",
      "ax = fig.add_subplot(111, axisbg='Ivory')\n",
      "\n",
      "# Now we generate something to plot. In this case, we will need data \n",
      "# that are randomly sampled from a particular function.\n",
      "\n",
      "x = np.linspace(0,100, 10000)\n",
      "y1 = x + np.random.uniform(-10, 10, 10000)\n",
      "y2 = x + np.random.uniform(-25, 25, 10000)\n",
      "y3 = x + np.random.uniform(-35, 35, 10000)\n",
      "\n",
      "ax.hist((y1, y2, y3), bins=15 , histtype='bar', normed=True, \\\n",
      "        color=('BurlyWood', 'IndianRed', 'DeepSkyBlue'), label=('Type A', 'Type B', 'Type C'))\n",
      "\n",
      "# Complete the plot\n",
      "\n",
      "ax.set_title(\"Histogram\")\n",
      "ax.set_xlabel(\"Value\")\n",
      "ax.set_ylabel(\"Probability\")\n",
      "ax.set_xlim(-45, 145)\n",
      "ax.legend()\n",
      "plt.show()"
     ],
     "language": "python",
     "metadata": {},
     "outputs": [
      {
       "metadata": {},
       "output_type": "display_data",
       "png": "[encoded data removed]",
       "text": [
        "<matplotlib.figure.Figure at 0x10e120e50>"
       ]
      }
     ],
     "prompt_number": 67
    },
    {
     "cell_type": "markdown",
     "metadata": {},
     "source": [
      "In all of the sample code provided in this notebook, we have ignored the return values from the `hist` method. In truth, this function returns three items:\n",
      "\n",
      "* `n`, the number contained within each bin. The length of this array is the same as the number of bins used to make the histogram.\n",
      "* `bins`, the bin edges. The number of edges is one more than the number of bins.\n",
      "* `patches`, which are matplotlib plotting objects (to make the bins show up) but you will generally ignore these.\n",
      "\n",
      "The first two arrays can often prove useful if you want to operate on the histogrammed data (in addition to plotting them). To use these data, you simply capture the returned values:\n",
      "```\n",
      "n, bins, patches = ax.hist(y)\n",
      "```"
     ]
    }
   ],
   "metadata": {}
  }
 ]
}