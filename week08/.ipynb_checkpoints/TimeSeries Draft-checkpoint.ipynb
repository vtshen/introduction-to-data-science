{
 "metadata": {
  "name": "",
  "signature": "sha256:074ad77246f5b9a59c1c867f137faa46462fa2c71c118db1be73fea444c3421c"
 },
 "nbformat": 3,
 "nbformat_minor": 0,
 "worksheets": [
  {
   "cells": [
    {
     "cell_type": "code",
     "collapsed": false,
     "input": [
      "import pandas as pd, numpy as np\n",
      "\n",
      "rng = pd.date_range('1/1/2011', periods = 72, freq = \"H\") # create a range of dates\n",
      "ts = pd.Series(np.random.randn(len(rng)), index=rng)\n",
      "converted = ts.asfreq('45Min', method = \"pad\") # change the frequency\n",
      "ts.resample('D', how = 'mean') # resample data"
     ],
     "language": "python",
     "metadata": {},
     "outputs": [
      {
       "metadata": {},
       "output_type": "pyout",
       "prompt_number": 11,
       "text": [
        "2011-01-01   -0.021232\n",
        "2011-01-02    0.159894\n",
        "2011-01-03    0.027078\n",
        "Freq: D, dtype: float64"
       ]
      }
     ],
     "prompt_number": 11
    },
    {
     "cell_type": "code",
     "collapsed": false,
     "input": [
      "pd.datetime(2011,1,1)"
     ],
     "language": "python",
     "metadata": {},
     "outputs": [
      {
       "metadata": {},
       "output_type": "pyout",
       "prompt_number": 12,
       "text": [
        "datetime.datetime(2011, 1, 1, 0, 0)"
       ]
      }
     ],
     "prompt_number": 12
    },
    {
     "cell_type": "code",
     "collapsed": false,
     "input": [
      "pd.Period('2011-01')"
     ],
     "language": "python",
     "metadata": {},
     "outputs": [
      {
       "metadata": {},
       "output_type": "pyout",
       "prompt_number": 15,
       "text": [
        "Period('2011-01', 'M')"
       ]
      }
     ],
     "prompt_number": 15
    },
    {
     "cell_type": "code",
     "collapsed": false,
     "input": [],
     "language": "python",
     "metadata": {},
     "outputs": []
    }
   ],
   "metadata": {}
  }
 ]
}