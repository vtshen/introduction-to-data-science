{
 "metadata": {
  "name": "",
  "signature": "sha256:26c31c84b29790377a481cb6d28c5795d6952dba2b075fdb6a6fb596d61286b3"
 },
 "nbformat": 3,
 "nbformat_minor": 0,
 "worksheets": [
  {
   "cells": [
    {
     "cell_type": "code",
     "collapsed": false,
     "input": [
      "import pandas as pd, numpy as np\n",
      "\n",
      "rng = pd.date_range('1/1/2011', periods = 72, freq = \"H\") # create a range of dates\n",
      "ts = pd.Series(np.random.randn(len(rng)), index=rng)\n",
      "converted = ts.asfreq('45Min', method = \"pad\") # change the frequency\n",
      "ts.resample('D', how = 'mean') # resample data\n",
      "rng.shift(1, freq = \"2h\")"
     ],
     "language": "python",
     "metadata": {},
     "outputs": [
      {
       "metadata": {},
       "output_type": "pyout",
       "prompt_number": 38,
       "text": [
        "<class 'pandas.tseries.index.DatetimeIndex'>\n",
        "[2011-01-01 02:00:00, ..., 2011-01-04 01:00:00]\n",
        "Length: 72, Freq: None, Timezone: None"
       ]
      }
     ],
     "prompt_number": 38
    },
    {
     "cell_type": "code",
     "collapsed": false,
     "input": [
      "pd.datetime(2011,1,1)"
     ],
     "language": "python",
     "metadata": {},
     "outputs": [
      {
       "metadata": {},
       "output_type": "pyout",
       "prompt_number": 12,
       "text": [
        "datetime.datetime(2011, 1, 1, 0, 0)"
       ]
      }
     ],
     "prompt_number": 12
    },
    {
     "cell_type": "code",
     "collapsed": false,
     "input": [
      "pd.Period('2011-01')"
     ],
     "language": "python",
     "metadata": {},
     "outputs": [
      {
       "metadata": {},
       "output_type": "pyout",
       "prompt_number": 15,
       "text": [
        "Period('2011-01', 'M')"
       ]
      }
     ],
     "prompt_number": 15
    },
    {
     "cell_type": "code",
     "collapsed": false,
     "input": [
      "rng = pd.bdate_range('1/1/2011', periods = 7) # create a range of dates\n",
      "rng"
     ],
     "language": "python",
     "metadata": {},
     "outputs": [
      {
       "metadata": {},
       "output_type": "pyout",
       "prompt_number": 31,
       "text": [
        "<class 'pandas.tseries.index.DatetimeIndex'>\n",
        "[2011-01-03, ..., 2011-01-11]\n",
        "Length: 7, Freq: B, Timezone: None"
       ]
      }
     ],
     "prompt_number": 31
    },
    {
     "cell_type": "code",
     "collapsed": false,
     "input": [
      "rng = pd.date_range('1/1/2012', periods=5, freq='M')\n",
      "ts = pd.Series(np.random.randn(len(rng)), index=rng)\n",
      "ps = ts.to_period()\n",
      "ps.to_timestamp(how = 'start')"
     ],
     "language": "python",
     "metadata": {},
     "outputs": [
      {
       "metadata": {},
       "output_type": "pyout",
       "prompt_number": 52,
       "text": [
        "2012-01-01   -0.394235\n",
        "2012-02-01   -1.378899\n",
        "2012-03-01   -1.315979\n",
        "2012-04-01   -0.050563\n",
        "2012-05-01    0.630312\n",
        "Freq: MS, dtype: float64"
       ]
      }
     ],
     "prompt_number": 52
    },
    {
     "cell_type": "code",
     "collapsed": false,
     "input": [],
     "language": "python",
     "metadata": {},
     "outputs": []
    }
   ],
   "metadata": {}
  }
 ]
}