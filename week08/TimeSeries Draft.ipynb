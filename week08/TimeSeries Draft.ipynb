{
 "metadata": {
  "name": "",
  "signature": "sha256:444117534499758c45f9739e6cff0a1c23c357fe8dcd49d44720f49fba0fe0d2"
 },
 "nbformat": 3,
 "nbformat_minor": 0,
 "worksheets": [
  {
   "cells": [
    {
     "cell_type": "code",
     "collapsed": false,
     "input": [
      "import pandas as pd, numpy as np\n",
      "\n",
      "rng = pd.date_range('1/1/2011', periods = 72, freq = \"H\") # create a range of dates\n",
      "ts = pd.Series(np.random.randn(len(rng)), index=rng)\n",
      "converted = ts.asfreq('45Min', method = \"pad\") # change the frequency\n",
      "ts.resample('D', how = 'mean') # resample data"
     ],
     "language": "python",
     "metadata": {},
     "outputs": [
      {
       "metadata": {},
       "output_type": "pyout",
       "prompt_number": 11,
       "text": [
        "2011-01-01   -0.021232\n",
        "2011-01-02    0.159894\n",
        "2011-01-03    0.027078\n",
        "Freq: D, dtype: float64"
       ]
      }
     ],
     "prompt_number": 11
    },
    {
     "cell_type": "code",
     "collapsed": false,
     "input": [
      "pd.datetime(2011,1,1)"
     ],
     "language": "python",
     "metadata": {},
     "outputs": [
      {
       "metadata": {},
       "output_type": "pyout",
       "prompt_number": 12,
       "text": [
        "datetime.datetime(2011, 1, 1, 0, 0)"
       ]
      }
     ],
     "prompt_number": 12
    },
    {
     "cell_type": "code",
     "collapsed": false,
     "input": [
      "pd.Period('2011-01')"
     ],
     "language": "python",
     "metadata": {},
     "outputs": [
      {
       "metadata": {},
       "output_type": "pyout",
       "prompt_number": 15,
       "text": [
        "Period('2011-01', 'M')"
       ]
      }
     ],
     "prompt_number": 15
    },
    {
     "cell_type": "code",
     "collapsed": false,
     "input": [
      "rng = pd.bdate_range('1/1/2011', periods = 7) # create a range of dates\n",
      "rng"
     ],
     "language": "python",
     "metadata": {},
     "outputs": [
      {
       "metadata": {},
       "output_type": "pyout",
       "prompt_number": 31,
       "text": [
        "<class 'pandas.tseries.index.DatetimeIndex'>\n",
        "[2011-01-03, ..., 2011-01-11]\n",
        "Length: 7, Freq: B, Timezone: None"
       ]
      }
     ],
     "prompt_number": 31
    },
    {
     "cell_type": "code",
     "collapsed": false,
     "input": [],
     "language": "python",
     "metadata": {},
     "outputs": []
    }
   ],
   "metadata": {}
  }
 ]
}