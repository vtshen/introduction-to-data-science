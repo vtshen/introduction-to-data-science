{
 "metadata": {
  "name": "",
  "signature": "sha256:b4e4170f13b970937de99feb3018e9ddc23f23a1292737e91de257bf8906a720"
 },
 "nbformat": 3,
 "nbformat_minor": 0,
 "worksheets": [
  {
   "cells": [
    {
     "cell_type": "code",
     "collapsed": false,
     "input": [
      "import twitter\n",
      "# XXX: Go to http://dev.twitter.com/apps/new to create an app and get values\n",
      "# for these credentials, which you'll need to provide in place of these\n",
      "# empty string values that are defined as placeholders.\n",
      "# See https://dev.twitter.com/docs/auth/oauth for more information\n",
      "# on Twitter's OAuth implementation.\n",
      "CONSUMER_KEY = 'LItYWbMkoEt6KRbznvoCQcP5i'\n",
      "CONSUMER_SECRET = 'NVhC9F6W77iO99Ut1aJDX7ut0DP8GqHyVFdtEWpRboFlpcvqnv'\n",
      "OAUTH_TOKEN = '2870997399-kNPx3rODRpF1YwmxQm9AQ4pIArfoHHgU7M8jR8Y'\n",
      "OAUTH_TOKEN_SECRET = 'sh6aEqDKoDJ2biDWtXXH4PCpiR4IBhKvOFLEAEWDRUym1'\n",
      "auth = twitter.oauth.OAuth(OAUTH_TOKEN, OAUTH_TOKEN_SECRET,\n",
      " CONSUMER_KEY, CONSUMER_SECRET)\n",
      "twitter_api = twitter.Twitter(auth=auth)\n",
      "# Nothing to see by displaying twitter_api except that it's now a\n",
      "# defined variable\n",
      "print(twitter_api)"
     ],
     "language": "python",
     "metadata": {},
     "outputs": [
      {
       "output_type": "stream",
       "stream": "stdout",
       "text": [
        "<twitter.api.Twitter object at 0x7f560a770ba8>\n"
       ]
      }
     ],
     "prompt_number": 3
    },
    {
     "cell_type": "code",
     "collapsed": false,
     "input": [
      "# The Yahoo! Where On Earth ID for the entire world is 1.\n",
      "# See https://dev.twitter.com/docs/api/1.1/get/trends/place and\n",
      "# http://developer.yahoo.com/geo/geoplanet/\n",
      "WORLD_WOE_ID = 1\n",
      "US_WOE_ID = 23424977\n",
      "# Prefix ID with the underscore for query string parameterization.\n",
      "# Without the underscore, the twitter package appends the ID value\n",
      "# to the URL itself as a special case keyword argument.\n",
      "world_trends = twitter_api.trends.place(_id=WORLD_WOE_ID)\n",
      "us_trends = twitter_api.trends.place(_id=US_WOE_ID)"
     ],
     "language": "python",
     "metadata": {},
     "outputs": [],
     "prompt_number": 4
    },
    {
     "cell_type": "code",
     "collapsed": false,
     "input": [
      "import json\n",
      "# print(json.dumps(world_trends, indent=2), \"\\n\",json. dumps(us_trends, indent=2))"
     ],
     "language": "python",
     "metadata": {},
     "outputs": [],
     "prompt_number": 5
    },
    {
     "cell_type": "code",
     "collapsed": false,
     "input": [
      "# find the intersection of two sets (world trend and US trend)\n",
      "world_trends_set = set([trend['name' ] for trend in world_trends[0]['trends' ]])\n",
      "us_trends_set = set([trend['name' ] for trend in us_trends[0]['trends' ]])\n",
      "common_trends = world_trends_set.intersection(us_trends_set)\n",
      "print(common_trends)"
     ],
     "language": "python",
     "metadata": {},
     "outputs": [
      {
       "output_type": "stream",
       "stream": "stdout",
       "text": [
        "{'#HappyInternationalWomensDay', 'Shaun Livingston', '#FelizDiaDeLaMujer'}\n"
       ]
      }
     ],
     "prompt_number": 6
    },
    {
     "cell_type": "code",
     "collapsed": false,
     "input": [
      "import twitter\n",
      "\n",
      "q = '#illini' # how to use query operators to build a query? see https://dev.twitter.com/rest/public/search \n",
      "count = 10 # count is The number of tweets to return per page\n",
      "# See https://dev.twitter.com/docs/api/1.1/get/search/tweets\n",
      "search_results = twitter_api.search.tweets(q = q, count = count) # search_results contains two fields: \"statuses\" and \"search_metadata\" \n",
      "statuses = search_results['statuses' ]\n",
      "# Iterate through 5 more batches of results by following the cursor\n",
      "for _ in range(5):\n",
      "    print(\"Length of statuses\" , len(statuses))\n",
      "    try:\n",
      "        next_results = search_results['search_metadata' ]['next_results' ] # get information related to next page\n",
      "    except KeyError: # No more results when next_results doesn't exist\n",
      "        break\n",
      "    # Create a dictionary from next_results, which has the following form:\n",
      "    # ?max_id=313519052523986943&q=NCAA&include_entities=1\n",
      "    kwargs = dict([ kv.split('=' ) for kv in next_results[1:].split(\"&\" ) ]) # get the arguments to search the next page\n",
      "    search_results = twitter_api.search.tweets(**kwargs) # here double stars unpack the values in dict into arguments of the function\n",
      "    statuses += search_results['statuses' ]\n",
      "    \n",
      "print(json.dumps(statuses[0], indent=4))\n"
     ],
     "language": "python",
     "metadata": {},
     "outputs": [
      {
       "output_type": "stream",
       "stream": "stdout",
       "text": [
        "Length of statuses 10\n",
        "Length of statuses"
       ]
      },
      {
       "output_type": "stream",
       "stream": "stdout",
       "text": [
        " 20\n",
        "Length of statuses"
       ]
      },
      {
       "output_type": "stream",
       "stream": "stdout",
       "text": [
        " 20\n",
        "{\n",
        "    \"favorite_count\": 0,\n",
        "    \"in_reply_to_user_id_str\": null,\n",
        "    \"coordinates\": null,\n",
        "    \"lang\": \"en\",\n",
        "    \"text\": \"Illinois State does NOT steal the bid. There's another at-large opportunity for the #Illini. Phew.\",\n",
        "    \"in_reply_to_screen_name\": null,\n",
        "    \"retweeted\": false,\n",
        "    \"in_reply_to_user_id\": null,\n",
        "    \"user\": {\n",
        "        \"profile_background_image_url\": \"http://pbs.twimg.com/profile_background_images/267181686/chitwit.jpg\",\n",
        "        \"profile_use_background_image\": true,\n",
        "        \"default_profile\": false,\n",
        "        \"lang\": \"en\",\n",
        "        \"created_at\": \"Wed Mar 25 21:45:50 +0000 2009\",\n",
        "        \"location\": \"\",\n",
        "        \"verified\": false,\n",
        "        \"url\": null,\n",
        "        \"contributors_enabled\": false,\n",
        "        \"is_translator\": false,\n",
        "        \"profile_sidebar_border_color\": \"829D5E\",\n",
        "        \"profile_image_url_https\": \"https://pbs.twimg.com/profile_images/511676827354423296/SzvMSmzK_normal.jpeg\",\n",
        "        \"notifications\": false,\n",
        "        \"profile_location\": null,\n",
        "        \"geo_enabled\": true,\n",
        "        \"statuses_count\": 5205,\n",
        "        \"utc_offset\": -18000,\n",
        "        \"profile_banner_url\": \"https://pbs.twimg.com/profile_banners/26600561/1414953695\",\n",
        "        \"profile_link_color\": \"112175\",\n",
        "        \"name\": \"Evan Rook\",\n",
        "        \"id_str\": \"26600561\",\n",
        "        \"friends_count\": 406,\n",
        "        \"time_zone\": \"Central Time (US & Canada)\",\n",
        "        \"screen_name\": \"erook\",\n",
        "        \"following\": false,\n",
        "        \"profile_background_color\": \"352726\",\n",
        "        \"profile_image_url\": \"http://pbs.twimg.com/profile_images/511676827354423296/SzvMSmzK_normal.jpeg\",\n",
        "        \"id\": 26600561,\n",
        "        \"protected\": false,\n",
        "        \"follow_request_sent\": false,\n",
        "        \"is_translation_enabled\": false,\n",
        "        \"favourites_count\": 2476,\n",
        "        \"profile_background_image_url_https\": \"https://pbs.twimg.com/profile_background_images/267181686/chitwit.jpg\",\n",
        "        \"entities\": {\n",
        "            \"description\": {\n",
        "                \"urls\": []\n",
        "            }\n",
        "        },\n",
        "        \"profile_text_color\": \"3E4415\",\n",
        "        \"profile_background_tile\": false,\n",
        "        \"profile_sidebar_fill_color\": \"99CC33\",\n",
        "        \"followers_count\": 307,\n",
        "        \"listed_count\": 2,\n",
        "        \"description\": \"My name's a chess piece but I'm not very good at chess.\",\n",
        "        \"default_profile_image\": false\n",
        "    },\n",
        "    \"retweet_count\": 0,\n",
        "    \"favorited\": false,\n",
        "    \"in_reply_to_status_id_str\": null,\n",
        "    \"id_str\": \"574669445915807747\",\n",
        "    \"place\": null,\n",
        "    \"created_at\": \"Sun Mar 08 20:34:07 +0000 2015\",\n",
        "    \"metadata\": {\n",
        "        \"result_type\": \"recent\",\n",
        "        \"iso_language_code\": \"en\"\n",
        "    },\n",
        "    \"truncated\": false,\n",
        "    \"source\": \"<a href=\\\"http://twitter.com\\\" rel=\\\"nofollow\\\">Twitter Web Client</a>\",\n",
        "    \"id\": 574669445915807747,\n",
        "    \"in_reply_to_status_id\": null,\n",
        "    \"contributors\": null,\n",
        "    \"entities\": {\n",
        "        \"hashtags\": [\n",
        "            {\n",
        "                \"indices\": [\n",
        "                    84,\n",
        "                    91\n",
        "                ],\n",
        "                \"text\": \"Illini\"\n",
        "            }\n",
        "        ],\n",
        "        \"user_mentions\": [],\n",
        "        \"urls\": [],\n",
        "        \"symbols\": []\n",
        "    },\n",
        "    \"geo\": null\n",
        "}\n"
       ]
      }
     ],
     "prompt_number": 7
    },
    {
     "cell_type": "code",
     "collapsed": false,
     "input": [],
     "language": "python",
     "metadata": {},
     "outputs": [],
     "prompt_number": 59
    },
    {
     "cell_type": "code",
     "collapsed": false,
     "input": [],
     "language": "python",
     "metadata": {},
     "outputs": []
    }
   ],
   "metadata": {}
  }
 ]
}