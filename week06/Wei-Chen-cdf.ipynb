{
 "metadata": {
  "name": "",
  "signature": "sha256:bd4f89ac0e0c6ea46b2b2acb6f1f1994f01844ff02eda18662e86dca052b6b1d"
 },
 "nbformat": 3,
 "nbformat_minor": 0,
 "worksheets": [
  {
   "cells": [
    {
     "cell_type": "markdown",
     "metadata": {},
     "source": [
      "## Problem 6.3. PMF and CDF.\n",
      "\n",
      "In this problem, you will compute and plot the\n",
      "  cumulative distribution function (CDF) of arrival delay."
     ]
    },
    {
     "cell_type": "code",
     "collapsed": false,
     "input": [
      "%matplotlib inline\n",
      "import numpy as np\n",
      "import pandas as pd\n",
      "from scipy import stats\n",
      "import matplotlib.pyplot as plt"
     ],
     "language": "python",
     "metadata": {},
     "outputs": [],
     "prompt_number": 2
    },
    {
     "cell_type": "markdown",
     "metadata": {},
     "source": [
      "First, write a function named `get_cdf()` that takes an array\n",
      "  and returns a tuple that represents the $x$ and $y$ axes of the (empirical) CDF.\n",
      "  \n",
      "Here is a very easy algorithm to implement this function.\n",
      "  See the definition of\n",
      "  [empirical distribution function](http://en.wikipedia.org/wiki/Empirical_distribution_function)\n",
      "  on Wikipedia. That means we can do the following to produce\n",
      "  the empirical CDF:\n",
      "\n",
      "1. Use Pandas to read the specified column.\n",
      "2. Pandas will automatically replace missing values `'NA'` with\n",
      "   `numpy.nan` (Not A Number).\n",
      "   Use [`numpy.isfinite()`](http://docs.scipy.org/doc/numpy/reference/generated/numpy.isfinite.html)\n",
      "   to mask out these missing values.\n",
      "3. Use [`numpy.sort()`](http://docs.scipy.org/doc/numpy/reference/generated/numpy.sort.html)\n",
      "   to sort the array (with no missing values) in ascending order.\n",
      "   This will be our $x$-axis.\n",
      "4. Create an array of $\\frac{1}{N}$, $\\frac{2}{N}$, ..., $1$,\n",
      "   where $N$ is the length of the sorted array (the $x$-axis).\n",
      "   This will be our $y$-axis.\n",
      "   All you have to do is use `np.arange()` to make an array\n",
      "   of length $N$,\n",
      "   and divide each element by $N$.\n",
      "\n",
      "According to Wikipedia, the resulting empirical CDF is an unbiased estimator for the true CDF.\n",
      "\n",
      "Note: Do NOT use numpy.histogram() function to create a CDF.\n",
      "  It uses binning, which might be useful in other cases but not in this case.\n",
      "  The method I outlined above is a better characterization of the true CDF."
     ]
    },
    {
     "cell_type": "code",
     "collapsed": false,
     "input": [
      "#%%writefile FirstName_LastName_cdf.py\n",
      "\n",
      "def get_cdf(filename, column):\n",
      "    '''\n",
      "    Reads a specific column of airline on-time performance CSV file,\n",
      "    and returns a tuple of arrays that represent the x and y axes of\n",
      "    cumulative distribution function.\n",
      "    \n",
      "    Parameters\n",
      "    ----------\n",
      "    filename(str): The filename of a CSV file.\n",
      "    column(str): The column header.\n",
      "    \n",
      "    Returns\n",
      "    -------\n",
      "    A tuple of two numpy arrays of equal length.\n",
      "    The first array represents the x axis of CDF.\n",
      "    The second array represents the y axis of CDF.\n",
      "    '''\n",
      "    \n",
      "    # your code goes here\n",
      "    temp_df = pd.read_csv(filename, encoding = 'latin1', usecols = [column])\n",
      "    temp_df = temp_df[np.isfinite(temp_df[column])]\n",
      "    cdf_x = np.sort(temp_df[column])\n",
      "    num_of_data = len(cdf_x)\n",
      "    cdf_y = np.linspace(1.0 / num_of_data, 1, num_of_data)\n",
      "    # my code ends here\n",
      "\n",
      "    return cdf_x, cdf_y"
     ],
     "language": "python",
     "metadata": {},
     "outputs": [],
     "prompt_number": 1
    },
    {
     "cell_type": "markdown",
     "metadata": {},
     "source": [
      "The `%%writefile` magic will create a file named `FirstName_LastName_cdf.py`.\n",
      "Rename and submit this file along with your `.ipynb` file.\n",
      "\n",
      "Next, use the `get_cdf()` function to create a CDF plot.\n",
      "Your plot should show both the empirical CDF calculated\n",
      "from `ArrDelay` column of `2001.csv` file\n",
      "and the CDF of a Guassian distribution.\n",
      "You can obtain the CDF of a Guassian distribution by using\n",
      "[`scipy.stats.norm.cdf()`](http://docs.scipy.org/doc/scipy/reference/generated/scipy.stats.norm.html).\n",
      "Use `loc=-3.5` and `scale=10.7`\n",
      "(which were obtained by fitting a Gaussian curve\n",
      "on the PDF)."
     ]
    },
    {
     "cell_type": "code",
     "collapsed": false,
     "input": [
      "# your code goes here\n",
      "cdf_x, cdf_y = get_cdf('/data/airline/2001.csv', 'ArrDelay')\n",
      "guassian_distr = stats.norm.cdf(cdf_x, loc = -3.5, scale = 10.7)\n",
      "fig, ax = plt.subplots()\n",
      "fig.set_size_inches((15,10))\n",
      "ax.step(cdf_x, cdf_y, color = \"red\", label = \"empirical CDF\")\n",
      "ax.step(cdf_x, guassian_distr, color = \"green\", label = \"Gaussian CDF\")\n",
      "ax.set_xlabel(\"ArrDelay\")\n",
      "ax.set_ylabel(\"CDF\")\n",
      "ax.legend(loc='upper left')\n",
      "plt.show()\n",
      "# my code ends here"
     ],
     "language": "python",
     "metadata": {},
     "outputs": [
      {
       "metadata": {},
       "output_type": "display_data",
       "png": "[encoded data removed]",
       "text": [
        "<matplotlib.figure.Figure at 0x7f640dd594e0>"
       ]
      }
     ],
     "prompt_number": 4
    },
    {
     "cell_type": "code",
     "collapsed": false,
     "input": [],
     "language": "python",
     "metadata": {},
     "outputs": []
    }
   ],
   "metadata": {}
  }
 ]
}