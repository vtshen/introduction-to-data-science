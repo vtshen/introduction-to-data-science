{
 "metadata": {
  "name": "",
  "signature": "sha256:1bde31f473254b9d18f5fa6d8ed89e2d24dfb8eafc6bd2ca749fc638ec811e2f"
 },
 "nbformat": 3,
 "nbformat_minor": 0,
 "worksheets": [
  {
   "cells": [
    {
     "cell_type": "markdown",
     "metadata": {},
     "source": [
      "## Problem 6.2. Flight Cancellations by Month.\n",
      "\n",
      "In this problem, you will use Panda's\n",
      "  [`groupby()`](http://pandas.pydata.org/pandas-docs/stable/groupby.html)\n",
      "  and [`aggregate()`](http://pandas.pydata.org/pandas-docs/stable/groupby.html)\n",
      "  functions to compute and plot the number of flight cancellations\n",
      "  in each month of 2001."
     ]
    },
    {
     "cell_type": "code",
     "collapsed": false,
     "input": [
      "%matplotlib inline\n",
      "import numpy as np\n",
      "import matplotlib.pyplot as plt\n",
      "import pandas as pd"
     ],
     "language": "python",
     "metadata": {},
     "outputs": [],
     "prompt_number": 5
    },
    {
     "cell_type": "markdown",
     "metadata": {},
     "source": [
      "First, write a function named `get_month_cancelled()` that takes a filename (str)\n",
      "  and returns a `pd.DataFrame` that is indexed by the **names** of the months\n",
      "  and has only one column `Cancelled`, the number of flight cancellations in each month.\n",
      "\n",
      "- Don't forget to set the `encoding` option.\n",
      "- Again, if you try to read in all 29 columns, your code will be very slow.\n",
      "  Use `usecols` to read only two columns, `Month` and `Cancelled`.\n",
      "- If you don't set the indices, they will be just numbers, e.g. 0, 1, 2...\n",
      "  Use the following list to set the indices.\n",
      "  Copy/paste (rather than type) since even a single typo will cause problems for autograding.\n",
      "  \n",
      "      ['January', 'February', 'March', 'April', 'May', 'June',\n",
      "       'July', 'August', 'September', 'October', 'November', 'December']\n",
      "   \n",
      "- When you call `get_month_cancelled('2001.csv'), you should get the following DataFrame.\n",
      "\n",
      "                   Cancelled\n",
      "        January        19891\n",
      "        February       17448\n",
      "        March          17876\n",
      "        April          11414\n",
      "        May             9452\n",
      "        June           15509\n",
      "        July           11286\n",
      "        August         13318\n",
      "        September      99324\n",
      "        October         6850\n",
      "        November        4497\n",
      "        December        4333\n",
      "\n",
      "        [12 rows x 1 columns]\n",
      "        \n",
      "- The `%%writefile` magic writes the `get_month_cancelled()` function\n",
      "  to a file named `FirstName_LastName_cancelled.py`.\n",
      "  Edit the command or rename the file, and upload this file along\n",
      "  with your `.ipynb` file."
     ]
    },
    {
     "cell_type": "code",
     "collapsed": false,
     "input": [
      "#%%writefile FirstName_LastName_cancelled.py\n",
      "\n",
      "def get_month_cancelled(filename):\n",
      "    '''\n",
      "    Reads the \"Month\" and \"Cancelled\" columns of a CSV file\n",
      "    and returns a Pandas DataFrame with only one column \"Cancelled\"\n",
      "    indexed by the months.\n",
      "    \n",
      "    Parameters\n",
      "    ----------\n",
      "    filename(str): The filename of the CSV file.\n",
      "    \n",
      "    Returns\n",
      "    -------\n",
      "    pandas.DataFrame: \"Cancelled\" column, indexed by names of the months\n",
      "    '''\n",
      "    \n",
      "    # your code goes here\n",
      "    temp_df = pd.read_csv(filename, encoding = \"latin1\", usecols = ['Month', 'Cancelled'])\n",
      "    month_cancelled = temp_df.groupby('Month').aggregate(sum)\n",
      "    month_cancelled.index = [\"January\", \"February\", \"March\", \"April\", \"May\", \"June\", \"July\", \"August\", \"September\", \"October\", \"November\", \"December\"]\n",
      "    # my code ends here\n",
      "    \n",
      "    return month_cancelled"
     ],
     "language": "python",
     "metadata": {},
     "outputs": [],
     "prompt_number": 22
    },
    {
     "cell_type": "markdown",
     "metadata": {},
     "source": [
      "When you run the following cell, you should get\n",
      "\n",
      "               Cancelled\n",
      "    January        19891\n",
      "    February       17448\n",
      "    March          17876\n",
      "    April          11414\n",
      "    May             9452\n",
      "    June           15509\n",
      "    July           11286\n",
      "    August         13318\n",
      "    September      99324\n",
      "    October         6850\n",
      "    November        4497\n",
      "    December        4333\n",
      "\n",
      "    [12 rows x 1 columns]"
     ]
    },
    {
     "cell_type": "code",
     "collapsed": false,
     "input": [
      "month_cancelled = get_month_cancelled('/data/airline/2001.csv')\n",
      "print(month_cancelled)"
     ],
     "language": "python",
     "metadata": {},
     "outputs": [
      {
       "output_type": "stream",
       "stream": "stdout",
       "text": [
        "           Cancelled\n",
        "January        19891\n",
        "February       17448\n",
        "March          17876\n",
        "April          11414\n",
        "May             9452\n",
        "June           15509\n",
        "July           11286\n",
        "August         13318\n",
        "September      99324\n",
        "October         6850\n",
        "November        4497\n",
        "December        4333\n"
       ]
      }
     ],
     "prompt_number": 23
    },
    {
     "cell_type": "markdown",
     "metadata": {},
     "source": [
      "Run the following cell to plot a bar histogram."
     ]
    },
    {
     "cell_type": "code",
     "collapsed": false,
     "input": [
      "month_cancelled.plot(kind='bar')"
     ],
     "language": "python",
     "metadata": {},
     "outputs": [
      {
       "metadata": {},
       "output_type": "pyout",
       "prompt_number": 24,
       "text": [
        "<matplotlib.axes.AxesSubplot at 0x7f2647e28550>"
       ]
      },
      {
       "metadata": {},
       "output_type": "display_data",
       "png": "[encoded data removed]",
       "text": [
        "<matplotlib.figure.Figure at 0x7f2648049d30>"
       ]
      }
     ],
     "prompt_number": 24
    },
    {
     "cell_type": "code",
     "collapsed": false,
     "input": [],
     "language": "python",
     "metadata": {},
     "outputs": [],
     "prompt_number": 20
    }
   ],
   "metadata": {}
  }
 ]
}